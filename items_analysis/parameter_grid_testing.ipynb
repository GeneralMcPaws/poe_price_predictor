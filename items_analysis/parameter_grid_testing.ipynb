{
 "cells": [
  {
   "cell_type": "code",
   "execution_count": 2,
   "metadata": {
    "ExecuteTime": {
     "end_time": "2019-03-07T18:30:40.537620Z",
     "start_time": "2019-03-07T18:30:39.566095Z"
    }
   },
   "outputs": [],
   "source": [
    "import json\n",
    "from sklearn.model_selection import ParameterGrid"
   ]
  },
  {
   "cell_type": "code",
   "execution_count": 1,
   "metadata": {
    "ExecuteTime": {
     "end_time": "2019-02-25T17:49:40.952855Z",
     "start_time": "2019-02-25T17:49:40.949853Z"
    }
   },
   "outputs": [],
   "source": [
    "def is_number(s):\n",
    "    try:\n",
    "        float(s)\n",
    "        return True\n",
    "    except ValueError:\n",
    "        return False"
   ]
  },
  {
   "cell_type": "code",
   "execution_count": 2,
   "metadata": {
    "ExecuteTime": {
     "end_time": "2019-02-25T17:49:41.090867Z",
     "start_time": "2019-02-25T17:49:41.085346Z"
    },
    "scrolled": true
   },
   "outputs": [],
   "source": [
    "d = {\"a\":{\"layers\":[{\"dropout\":\"value1\"},{\"rate\":\"value2\"}]}}\n",
    "dotted = 'a.layers.1.rate'\n",
    "\n",
    "paths, current = dotted.split('.'), d\n",
    "for p in paths[:-1]:\n",
    "    if is_number(p) : current = current[int(p)]\n",
    "    else : current = current[p]\n",
    "current[paths[-1]] = 'arxudia'"
   ]
  },
  {
   "cell_type": "code",
   "execution_count": 3,
   "metadata": {
    "ExecuteTime": {
     "end_time": "2019-02-25T17:49:41.223867Z",
     "start_time": "2019-02-25T17:49:41.214855Z"
    }
   },
   "outputs": [
    {
     "data": {
      "text/plain": [
       "{'a': {'layers': [{'dropout': 'value1'}, {'rate': 'arxudia'}]}}"
      ]
     },
     "execution_count": 3,
     "metadata": {},
     "output_type": "execute_result"
    }
   ],
   "source": [
    "d"
   ]
  },
  {
   "cell_type": "code",
   "execution_count": 4,
   "metadata": {
    "ExecuteTime": {
     "end_time": "2019-02-25T17:49:41.326490Z",
     "start_time": "2019-02-25T17:49:41.322498Z"
    }
   },
   "outputs": [],
   "source": [
    "def change_dict_path_value(dotted_path, org,value,delim='.'):\n",
    "    paths, current = dotted_path.split(sep=delim), org\n",
    "    for p in paths[:-1]:\n",
    "        if is_number(p) : current = current[int(p)]\n",
    "        else : current = current[p]\n",
    "    current[paths[-1]] = value\n",
    "    return org"
   ]
  },
  {
   "cell_type": "code",
   "execution_count": 2,
   "metadata": {
    "ExecuteTime": {
     "end_time": "2019-03-05T16:38:36.556736Z",
     "start_time": "2019-03-05T16:38:35.934585Z"
    }
   },
   "outputs": [
    {
     "data": {
      "text/plain": [
       "[{'model.layers.0.neurons': 12, 'model.optimizer': 'adam'},\n",
       " {'model.layers.0.neurons': 24, 'model.optimizer': 'adam'}]"
      ]
     },
     "execution_count": 2,
     "metadata": {},
     "output_type": "execute_result"
    }
   ],
   "source": [
    "import json\n",
    "from sklearn.model_selection import ParameterGrid\n",
    "configs = json.load(open('multi_tabula_config.json', 'r'))\n",
    "\n",
    "grid = ParameterGrid({\"model.layers.0.neurons\":[12,24],\n",
    "#                      \"model.layers.0.input_timesteps\":[50,5],\n",
    "                     \"model.optimizer\":['adam']})\n",
    "\n",
    "list(grid)\n"
   ]
  },
  {
   "cell_type": "code",
   "execution_count": 6,
   "metadata": {
    "ExecuteTime": {
     "end_time": "2019-02-25T17:49:42.248840Z",
     "start_time": "2019-02-25T17:49:42.149193Z"
    }
   },
   "outputs": [
    {
     "ename": "NameError",
     "evalue": "name 'append_to_csv_file' is not defined",
     "output_type": "error",
     "traceback": [
      "\u001b[1;31m---------------------------------------------------------------------------\u001b[0m",
      "\u001b[1;31mNameError\u001b[0m                                 Traceback (most recent call last)",
      "\u001b[1;32m<ipython-input-6-dd5bc8cfd5d1>\u001b[0m in \u001b[0;36m<module>\u001b[1;34m\u001b[0m\n\u001b[0;32m     14\u001b[0m                                               \u001b[0mconfigs\u001b[0m\u001b[1;33m[\u001b[0m\u001b[1;34m'model'\u001b[0m\u001b[1;33m]\u001b[0m\u001b[1;33m[\u001b[0m\u001b[1;34m'layers'\u001b[0m\u001b[1;33m]\u001b[0m\u001b[1;33m[\u001b[0m\u001b[1;36m3\u001b[0m\u001b[1;33m]\u001b[0m\u001b[1;33m[\u001b[0m\u001b[1;34m'activation'\u001b[0m\u001b[1;33m]\u001b[0m\u001b[1;33m,\u001b[0m\u001b[1;33m\u001b[0m\u001b[1;33m\u001b[0m\u001b[0m\n\u001b[0;32m     15\u001b[0m                                               configs['model']['optimizer'])\n\u001b[1;32m---> 16\u001b[1;33m     \u001b[0mappend_to_csv_file\u001b[0m\u001b[1;33m(\u001b[0m\u001b[0mfilename\u001b[0m\u001b[1;33m,\u001b[0m\u001b[0mstring_row\u001b[0m\u001b[1;33m)\u001b[0m\u001b[1;33m\u001b[0m\u001b[1;33m\u001b[0m\u001b[0m\n\u001b[0m",
      "\u001b[1;31mNameError\u001b[0m: name 'append_to_csv_file' is not defined"
     ]
    }
   ],
   "source": [
    "import os\n",
    "import csv\n",
    "if not os.path.exists(configs['model']['save_dir']): os.makedirs(configs['model']['save_dir'])\n",
    "for param_list in list(grid):\n",
    "    for key,value in param_list.items():\n",
    "        configs = change_dict_path_value(key,configs,value)\n",
    "    filename = configs['model']['save_dir']+'/'+'results.csv'\n",
    "    string_row = \"{}|{}|{}|{}|{}|{}|{}|{}\\n\".format(configs['data']['sequence_length'],\n",
    "                                              configs['data']['train_test_split'],\n",
    "                                              configs['training']['epochs'],\n",
    "                                              configs['model']['layers'][0]['neurons'],\n",
    "                                              configs['model']['layers'][2]['rate'],\n",
    "                                              configs['model']['layers'][1]['neurons'],\n",
    "                                              configs['model']['layers'][3]['activation'],\n",
    "                                              configs['model']['optimizer'])\n",
    "    append_to_csv_file(filename,string_row)"
   ]
  },
  {
   "cell_type": "code",
   "execution_count": null,
   "metadata": {
    "ExecuteTime": {
     "end_time": "2019-02-25T17:49:42.249828Z",
     "start_time": "2019-02-25T17:49:41.768Z"
    }
   },
   "outputs": [],
   "source": [
    "def append_to_csv_file(filename,string_row):\n",
    "    f = open(filename,'a')\n",
    "    print(string_row)\n",
    "    f.write(string_row)\n",
    "    f.close()\n",
    "    "
   ]
  },
  {
   "cell_type": "code",
   "execution_count": 51,
   "metadata": {
    "ExecuteTime": {
     "end_time": "2019-02-23T13:02:03.317297Z",
     "start_time": "2019-02-23T13:02:03.295772Z"
    }
   },
   "outputs": [
    {
     "data": {
      "text/html": [
       "<div>\n",
       "<style scoped>\n",
       "    .dataframe tbody tr th:only-of-type {\n",
       "        vertical-align: middle;\n",
       "    }\n",
       "\n",
       "    .dataframe tbody tr th {\n",
       "        vertical-align: top;\n",
       "    }\n",
       "\n",
       "    .dataframe thead th {\n",
       "        text-align: right;\n",
       "    }\n",
       "</style>\n",
       "<table border=\"1\" class=\"dataframe\">\n",
       "  <thead>\n",
       "    <tr style=\"text-align: right;\">\n",
       "      <th></th>\n",
       "      <th>24</th>\n",
       "      <th>adam</th>\n",
       "    </tr>\n",
       "  </thead>\n",
       "  <tbody>\n",
       "    <tr>\n",
       "      <th>0</th>\n",
       "      <td>12</td>\n",
       "      <td>adam</td>\n",
       "    </tr>\n",
       "    <tr>\n",
       "      <th>1</th>\n",
       "      <td>24</td>\n",
       "      <td>adam</td>\n",
       "    </tr>\n",
       "    <tr>\n",
       "      <th>2</th>\n",
       "      <td>12</td>\n",
       "      <td>adam</td>\n",
       "    </tr>\n",
       "    <tr>\n",
       "      <th>3</th>\n",
       "      <td>24</td>\n",
       "      <td>adam</td>\n",
       "    </tr>\n",
       "    <tr>\n",
       "      <th>4</th>\n",
       "      <td>12</td>\n",
       "      <td>adam</td>\n",
       "    </tr>\n",
       "    <tr>\n",
       "      <th>5</th>\n",
       "      <td>24</td>\n",
       "      <td>adam</td>\n",
       "    </tr>\n",
       "    <tr>\n",
       "      <th>6</th>\n",
       "      <td>12</td>\n",
       "      <td>adam</td>\n",
       "    </tr>\n",
       "    <tr>\n",
       "      <th>7</th>\n",
       "      <td>24</td>\n",
       "      <td>adam</td>\n",
       "    </tr>\n",
       "  </tbody>\n",
       "</table>\n",
       "</div>"
      ],
      "text/plain": [
       "   24  adam\n",
       "0  12  adam\n",
       "1  24  adam\n",
       "2  12  adam\n",
       "3  24  adam\n",
       "4  12  adam\n",
       "5  24  adam\n",
       "6  12  adam\n",
       "7  24  adam"
      ]
     },
     "execution_count": 51,
     "metadata": {},
     "output_type": "execute_result"
    }
   ],
   "source": [
    "import pandas as pd\n",
    "\n",
    "pd.read_csv(filename,sep='|')"
   ]
  },
  {
   "cell_type": "code",
   "execution_count": 13,
   "metadata": {
    "ExecuteTime": {
     "end_time": "2019-02-23T11:30:10.177986Z",
     "start_time": "2019-02-23T11:30:06.123558Z"
    }
   },
   "outputs": [
    {
     "data": {
      "text/plain": [
       "3548160"
      ]
     },
     "execution_count": 13,
     "metadata": {},
     "output_type": "execute_result"
    }
   ],
   "source": [
    "import numpy\n",
    "grid = ParameterGrid({\"data.sequence_length\": [i for i in range(6,21)],\n",
    "                      \"data.train_test_split\": numpy.arange(0.3, 0.81, 0.05),\n",
    "                      \"training.epochs\": [100,200,300],\n",
    "                     \"data.outliers.high_quantile\":numpy.arange(0.6,0.91,0.1),\n",
    "                     \"model.loss\":['mse','mae','rmse','rmae'],\n",
    "                     \"model.optimizer\":['adam','sgd'],\n",
    "                     \"model.learning_rate\":[0.01,0.05,0.1,0.2],\n",
    "                     \"model.layers.0.neurons\":[50,100,200,300],\n",
    "#                      \"model.layers.0.input_timesteps\":numpy.arange(6,20,1),\n",
    "#                      \"model.layers.1.neurons\":[25,50,100,150],\n",
    "#                      \"model.layers.2.rate\":numpy.arange(0.1,0.51,0.05),\n",
    "#                      \"model.layers.3.activation\":['linear','sigmoid','relu']\n",
    "                     })\n",
    "len(list(grid))"
   ]
  },
  {
   "cell_type": "code",
   "execution_count": 7,
   "metadata": {
    "ExecuteTime": {
     "end_time": "2019-03-05T16:41:00.911776Z",
     "start_time": "2019-03-05T16:41:00.907771Z"
    }
   },
   "outputs": [
    {
     "data": {
      "text/plain": [
       "array([0.3 , 0.35, 0.4 , 0.45, 0.5 , 0.55, 0.6 , 0.65, 0.7 , 0.75, 0.8 ])"
      ]
     },
     "execution_count": 7,
     "metadata": {},
     "output_type": "execute_result"
    }
   ],
   "source": [
    "numpy.arange(0.3, 0.81, 0.05)"
   ]
  },
  {
   "cell_type": "code",
   "execution_count": 4,
   "metadata": {
    "ExecuteTime": {
     "end_time": "2019-03-07T18:30:48.006831Z",
     "start_time": "2019-03-07T18:30:47.994825Z"
    }
   },
   "outputs": [
    {
     "data": {
      "text/plain": [
       "576"
      ]
     },
     "execution_count": 4,
     "metadata": {},
     "output_type": "execute_result"
    }
   ],
   "source": [
    "import numpy\n",
    "grid = ParameterGrid({\"epochs\": [30,50],\n",
    "                     \"optimizer\":['adam','sgd'],\n",
    "                     \"learning_rate\":[0.01,0.1,0.5,1],\n",
    "                     \"hidden_layer_neurons\":[300,400,500],\n",
    "                     \"dropout_rate\":[0.1,0.2,0.3,0.4],\n",
    "                     \"output_layer_activation_function\":['linear','swish']\n",
    "                     })\n",
    "len(list(grid))"
   ]
  },
  {
   "cell_type": "code",
   "execution_count": 5,
   "metadata": {
    "ExecuteTime": {
     "end_time": "2019-03-05T16:39:03.584713Z",
     "start_time": "2019-03-05T16:39:03.579706Z"
    }
   },
   "outputs": [
    {
     "data": {
      "text/plain": [
       "{'training.epochs': 100,\n",
       " 'model.optimizer': 'sgd',\n",
       " 'model.learning_rate': 0.01,\n",
       " 'model.layers.3.activation': 'linear',\n",
       " 'model.layers.2.rate': 0.1,\n",
       " 'model.layers.1.neurons': 50,\n",
       " 'model.layers.0.neurons': 100,\n",
       " 'data.train_test_split': 0.3,\n",
       " 'data.sequence_length': 6}"
      ]
     },
     "execution_count": 5,
     "metadata": {},
     "output_type": "execute_result"
    }
   ],
   "source": []
  },
  {
   "cell_type": "code",
   "execution_count": 14,
   "metadata": {
    "ExecuteTime": {
     "end_time": "2019-02-25T18:04:49.116453Z",
     "start_time": "2019-02-25T18:04:49.110460Z"
    }
   },
   "outputs": [
    {
     "data": {
      "text/plain": [
       "660"
      ]
     },
     "execution_count": 14,
     "metadata": {},
     "output_type": "execute_result"
    }
   ],
   "source": [
    "import numpy\n",
    "grid = ParameterGrid({\"data.sequence_length\": [i for i in range(6,21)],\n",
    "                      \"data.train_test_split\": numpy.arange(0.3, 0.81, 0.05),\n",
    "                      \"training.epochs\": [100,200],\n",
    "                     \"model.optimizer\":['adam'],\n",
    "                     \"model.layers.0.neurons\":[100],\n",
    "                     \"model.layers.1.neurons\":[50],\n",
    "                     \"model.layers.2.rate\":numpy.arange(0.1,0.21,0.1),\n",
    "                     \"model.layers.3.activation\":['linear']\n",
    "                     })\n",
    "len(list(grid))"
   ]
  },
  {
   "cell_type": "code",
   "execution_count": 10,
   "metadata": {
    "ExecuteTime": {
     "end_time": "2019-02-25T17:59:17.075684Z",
     "start_time": "2019-02-25T17:59:17.070188Z"
    }
   },
   "outputs": [
    {
     "data": {
      "text/plain": [
       "189"
      ]
     },
     "execution_count": 10,
     "metadata": {},
     "output_type": "execute_result"
    }
   ],
   "source": [
    "import numpy\n",
    "grid = ParameterGrid({\"data.sequence_length\": [i for i in range(6,13)],\n",
    "                      \"data.train_test_split\": [0.3,0.4,0.5],\n",
    "                      \"training.epochs\": [100,200,300],\n",
    "                     \"model.optimizer\":['adam'],\n",
    "                     \"model.layers.0.neurons\":[100],\n",
    "                     \"model.layers.1.neurons\":[50],\n",
    "                     \"model.layers.2.rate\":numpy.arange(0.1,0.31,0.1),\n",
    "                     \"model.layers.3.activation\":['linear']\n",
    "                     })\n",
    "len(list(grid))"
   ]
  },
  {
   "cell_type": "code",
   "execution_count": null,
   "metadata": {},
   "outputs": [],
   "source": []
  }
 ],
 "metadata": {
  "kernelspec": {
   "display_name": "Python 3",
   "language": "python",
   "name": "python3"
  },
  "language_info": {
   "codemirror_mode": {
    "name": "ipython",
    "version": 3
   },
   "file_extension": ".py",
   "mimetype": "text/x-python",
   "name": "python",
   "nbconvert_exporter": "python",
   "pygments_lexer": "ipython3",
   "version": "3.6.8"
  },
  "toc": {
   "base_numbering": 1,
   "nav_menu": {},
   "number_sections": true,
   "sideBar": true,
   "skip_h1_title": false,
   "title_cell": "Table of Contents",
   "title_sidebar": "Contents",
   "toc_cell": false,
   "toc_position": {},
   "toc_section_display": true,
   "toc_window_display": false
  }
 },
 "nbformat": 4,
 "nbformat_minor": 2
}
